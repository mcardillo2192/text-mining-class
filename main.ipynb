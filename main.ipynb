{
 "cells": [
  {
   "cell_type": "markdown",
   "metadata": {},
   "source": [
    "## Breitzman 9/6/2022\n",
    "<br>\n",
    "Port of my 2013 Python 2.7 code to Python 3.x\n",
    "<br>\n",
    "\n",
    "Also borrows some code from Badal Juneja's port of my earlier code."
   ]
  },
  {
   "cell_type": "code",
   "execution_count": 1,
   "metadata": {},
   "outputs": [
    {
     "name": "stdout",
     "output_type": "stream",
     "text": [
      "3.8.5 (default, Sep  3 2020, 21:29:08) [MSC v.1916 64 bit (AMD64)]\n"
     ]
    }
   ],
   "source": [
    "#what are we running?\n",
    "import sys\n",
    "print(sys.version)"
   ]
  },
  {
   "cell_type": "code",
   "execution_count": 2,
   "metadata": {},
   "outputs": [],
   "source": [
    "#need conda install -c conda-forge google-api-python-client\n",
    "#or equivalent if using pip\n",
    "import apiclient # google's python api library"
   ]
  },
  {
   "cell_type": "code",
   "execution_count": 3,
   "metadata": {},
   "outputs": [],
   "source": [
    "from IPython.core.display import HTML  #this is useful for printing nice HTML within Jupyter notebook"
   ]
  },
  {
   "cell_type": "code",
   "execution_count": 4,
   "metadata": {},
   "outputs": [],
   "source": [
    "import config  #fill config.py with APIkeys and put in same directory\n",
    "GdevKey = config.GdevKey "
   ]
  },
  {
   "cell_type": "code",
   "execution_count": 5,
   "metadata": {},
   "outputs": [],
   "source": [
    "#here are some custom search engine keys\n",
    "#you can use mine or make your own\n",
    "patdevcx = '016938528964600140909:i6wj7bxhnra'  #custom search engine for patents\n",
    "Gdevcx = '016938528964600140909:wupywukfgda'  #general google search engine\n",
    "GSdevcx = '016938528964600140909:agrqxfwuuuq'  #google scholar\n",
    "GLIdevcx = '016938528964600140909:m1qf0rkoow4'  #google linked-in\n",
    "GPRdevcx = '016938528964600140909:zkjzldc4wwa'   #press releases\n",
    "GVCdevcx = '016938528964600140909:zkjzldc4wwa'   #venture capital"
   ]
  },
  {
   "cell_type": "code",
   "execution_count": 6,
   "metadata": {},
   "outputs": [],
   "source": [
    "## Here's some slick code from a former student (Badal Juneja) that does a nice job of printing the results\n",
    "def print_html_formatted_result(result, print_count_start):\n",
    "    \n",
    "    '''\n",
    "    Helper function for pretty printing google search api results\n",
    "    '''\n",
    "    \n",
    "    for counter, item in enumerate(result['items'], print_count_start):\n",
    "        display(HTML('<a href=\"{}\">{}. {}</a><br>{}<br><br>'.format(\n",
    "            item['link'], counter, item['htmlTitle'], item['htmlSnippet']\n",
    "            )))"
   ]
  },
  {
   "cell_type": "code",
   "execution_count": 7,
   "metadata": {},
   "outputs": [],
   "source": [
    "## Also modified from Badal.  Modification includes setting default search engine to regular google\n",
    "def search_and_print(query, api_key, search_engine_key=Gdevcx, number_of_desired_results=10):\n",
    "    \n",
    "    '''\n",
    "    Takes up to four arguments:\n",
    "    query: as you will type them in google.com\n",
    "    api_key: your developer key\n",
    "    search_engine_key (optional): your personal search engine. Default is google.com with search all web turned on \n",
    "    number_of_desired_results (optional): number of results you want. Deafult is 10. Keep less than 50 to not use too many queries. \n",
    "    '''\n",
    "\n",
    "    service = apiclient.discovery.build(\"customsearch\", \"v1\", developerKey=api_key)\n",
    "    resource = service.cse()\n",
    "\n",
    "    number_of_results_printed = 0\n",
    "\n",
    "    while number_of_results_printed < number_of_desired_results:\n",
    "\n",
    "        left_to_print = number_of_desired_results - number_of_results_printed\n",
    "        left_to_print = 10 if left_to_print >= 10 else left_to_print\n",
    "        print_count_start = number_of_results_printed + 1\n",
    "\n",
    "        result = resource.list(q=query, cx=search_engine_key, num=left_to_print, start=print_count_start).execute()\n",
    "        \n",
    "        if 'items' in result: # only if results found\n",
    "            print_html_formatted_result(result, print_count_start)\n",
    "        else:\n",
    "            break\n",
    "        \n",
    "        number_of_results_printed += left_to_print"
   ]
  },
  {
   "cell_type": "code",
   "execution_count": 10,
   "metadata": {},
   "outputs": [
    {
     "data": {
      "text/html": [
       "<a href=\"https://www.samsung.com/us/\">1. <b>Samsung</b> US | Mobile | TV | Home Electronics | Home Appliances ...</a><br>Discover the latest in electronic &amp; smart appliance technology with <b>Samsung</b>. Find the next big thing from smartphones &amp; tablets to laptops &amp; tvs &amp; more.<br><br>"
      ],
      "text/plain": [
       "<IPython.core.display.HTML object>"
      ]
     },
     "metadata": {},
     "output_type": "display_data"
    },
    {
     "data": {
      "text/html": [
       "<a href=\"https://www.samsung.com/global/galaxy/\">2. <b>Samsung</b> Galaxy - The Official <b>Samsung</b> Galaxy Site</a><br>Unfold a whole new world of greater experience with Galaxy Z Fold4 and Galaxy Z Flip4, the toughest and most powerful <b>Samsung</b> Galaxy foldables yet.<br><br>"
      ],
      "text/plain": [
       "<IPython.core.display.HTML object>"
      ]
     },
     "metadata": {},
     "output_type": "display_data"
    },
    {
     "data": {
      "text/html": [
       "<a href=\"https://www.samsung.com/us/smartphones/\">3. Latest <b>Samsung</b> Galaxy Smartphones | Mobile Phones | <b>Samsung</b> US</a><br>Discover the latest <b>Samsung</b> Galaxy smartphone and explore the full line of mobile phones including the Galaxy Z Fold4 and Galaxy Z Flip4.<br><br>"
      ],
      "text/plain": [
       "<IPython.core.display.HTML object>"
      ]
     },
     "metadata": {},
     "output_type": "display_data"
    },
    {
     "data": {
      "text/html": [
       "<a href=\"https://news.samsung.com/global/\">4. <b>Samsung</b> Global Newsroom – All the latest news, key facts and ...</a><br>The official communications channel of <b>Samsung</b> Electronics, providing all the latest stories regarding the company&#39;s products, people and businesses.<br><br>"
      ],
      "text/plain": [
       "<IPython.core.display.HTML object>"
      ]
     },
     "metadata": {},
     "output_type": "display_data"
    },
    {
     "data": {
      "text/html": [
       "<a href=\"https://semiconductor.samsung.com/\">5. <b>Samsung</b> Semiconductor Global Official Website | <b>Samsung</b> ...</a><br><b>Samsung</b> provides innovative semiconductor solutions, including DRAM, SSD, processors, image sensors with a wide-ranging portfolio of trending technologies.<br><br>"
      ],
      "text/plain": [
       "<IPython.core.display.HTML object>"
      ]
     },
     "metadata": {},
     "output_type": "display_data"
    },
    {
     "data": {
      "text/html": [
       "<a href=\"https://displaysolutions.samsung.com/main/index\">6. <b>Samsung</b> Display Solutions: Main</a><br><b>Samsung</b> digital signage is the world&#39;s first integration-ready display solution that seamlessly combines hardware and software.<br><br>"
      ],
      "text/plain": [
       "<IPython.core.display.HTML object>"
      ]
     },
     "metadata": {},
     "output_type": "display_data"
    },
    {
     "data": {
      "text/html": [
       "<a href=\"https://www.samsunghvac.com/\">7. <b>Samsung</b> HVAC: Innovative and Trusted HVAC Solutions</a><br>We bring HVAC solutions for any of your needs: Residential or Commercial. Learn how our professionals will help you find the best HVAC system for your home&nbsp;...<br><br>"
      ],
      "text/plain": [
       "<IPython.core.display.HTML object>"
      ]
     },
     "metadata": {},
     "output_type": "display_data"
    },
    {
     "data": {
      "text/html": [
       "<a href=\"https://account.samsung.com/\">8. <b>Samsung</b> account</a><br>Your gateway to the world of <b>Samsung</b> Explore what you can do with a <b>Samsung</b> account. Get support from anywhere Access 24/7 customer service with one simple&nbsp;...<br><br>"
      ],
      "text/plain": [
       "<IPython.core.display.HTML object>"
      ]
     },
     "metadata": {},
     "output_type": "display_data"
    },
    {
     "data": {
      "text/html": [
       "<a href=\"http://www.samsungsdi.com/index.html\">9. <b>Samsung</b> Li-Ion Battery &amp; Renewable Energy | <b>Samsung</b> SDI Official ...</a><br>Since 1970, <b>Samsung</b> SDI has been creating innovative renewable energy and energy storage system with cutting-edge technology that is being experienced by&nbsp;...<br><br>"
      ],
      "text/plain": [
       "<IPython.core.display.HTML object>"
      ]
     },
     "metadata": {},
     "output_type": "display_data"
    },
    {
     "data": {
      "text/html": [
       "<a href=\"https://www.samsungknox.com/en\">10. <b>Samsung</b> Knox | Secure mobile platform and solutions</a><br>Knox is <b>Samsung&#39;s</b> defense-grade mobile security platform built into our latest devices. It provides real-time device protection from the moment you turn it&nbsp;...<br><br>"
      ],
      "text/plain": [
       "<IPython.core.display.HTML object>"
      ]
     },
     "metadata": {},
     "output_type": "display_data"
    },
    {
     "data": {
      "text/html": [
       "<a href=\"https://www.samsungmobilepress.com/\">11. <b>Samsung</b> Mobile Press</a><br><b>Samsung</b> Electronics demonstrates how brands can leverage their collective reach to empower young people and take concrete action to foster a better,&nbsp;...<br><br>"
      ],
      "text/plain": [
       "<IPython.core.display.HTML object>"
      ]
     },
     "metadata": {},
     "output_type": "display_data"
    }
   ],
   "source": [
    "search_and_print('samsung', GdevKey, number_of_desired_results=11)"
   ]
  },
  {
   "cell_type": "code",
   "execution_count": 11,
   "metadata": {},
   "outputs": [
    {
     "data": {
      "text/html": [
       "<a href=\"https://ieeexplore.ieee.org/document/9499876\">1. Sparsity-Aware and Re-configurable NPU Architecture for <b>Samsung</b> ...</a><br>Sparsity-Aware and Re-configurable NPU Architecture for <b>Samsung</b> Flagship Mobile SoC. Abstract: Of late, deep neural networks have become ubiquitous in mobile&nbsp;...<br><br>"
      ],
      "text/plain": [
       "<IPython.core.display.HTML object>"
      ]
     },
     "metadata": {},
     "output_type": "display_data"
    },
    {
     "data": {
      "text/html": [
       "<a href=\"https://www.ncbi.nlm.nih.gov/pmc/articles/PMC3155170/\">2. The Uses of the Smartphone for Doctors: An Empirical Study from ...</a><br>Since 2003 when <b>Samsung</b> Medical Center introduced its first mobile application, a need to develop a new application targeting the latest smartphone&nbsp;...<br><br>"
      ],
      "text/plain": [
       "<IPython.core.display.HTML object>"
      ]
     },
     "metadata": {},
     "output_type": "display_data"
    },
    {
     "data": {
      "text/html": [
       "<a href=\"https://www.ncbi.nlm.nih.gov/pmc/articles/PMC6472772/\">3. Comparative analysis of positioning accuracy of <b>Samsung</b> Galaxy ...</a><br>Apr 18, 2019 <b>...</b> The latest smartphones, such as <b>Samsung</b> Galaxy (models: S5-S8), receive signals of not only fully operational systems Global Positioning System&nbsp;...<br><br>"
      ],
      "text/plain": [
       "<IPython.core.display.HTML object>"
      ]
     },
     "metadata": {},
     "output_type": "display_data"
    },
    {
     "data": {
      "text/html": [
       "<a href=\"https://ieeexplore.ieee.org/document/9138988\">4. Evolution of the <b>Samsung</b> Exynos CPU Microarchitecture | IEEE ...</a><br>The <b>Samsung</b> Exynos family of cores are highperformance “big” processors developed at the <b>Samsung</b> Austin Research &amp; Design Center (SARC) starting in late&nbsp;...<br><br>"
      ],
      "text/plain": [
       "<IPython.core.display.HTML object>"
      ]
     },
     "metadata": {},
     "output_type": "display_data"
    },
    {
     "data": {
      "text/html": [
       "<a href=\"https://www.ncbi.nlm.nih.gov/pmc/articles/PMC6386649/\">5. Accuracy of <b>Samsung</b> Gear S Smartwatch for Activity Recognition ...</a><br>This study aimed to assess the validity of accelerometer data collected from a <b>Samsung</b> Gear S smartwatch (SGS) compared with an ActiGraph GT3X+ (GT3X+)&nbsp;...<br><br>"
      ],
      "text/plain": [
       "<IPython.core.display.HTML object>"
      ]
     },
     "metadata": {},
     "output_type": "display_data"
    },
    {
     "data": {
      "text/html": [
       "<a href=\"https://www.sciencedirect.com/science/article/pii/S1877042816300696\">6. Brand Image and Product Price; Its Impact for <b>Samsung</b> Smartphone ...</a><br>May 31, 2016 <b>...</b> The variables that is used are brand image and product price of <b>Samsung</b> smartphone. The descriptive quantitative research methods with a non&nbsp;...<br><br>"
      ],
      "text/plain": [
       "<IPython.core.display.HTML object>"
      ]
     },
     "metadata": {},
     "output_type": "display_data"
    },
    {
     "data": {
      "text/html": [
       "<a href=\"https://www.ncbi.nlm.nih.gov/pmc/articles/PMC6686105/\">7. Background and Activities of the <b>Samsung</b> Ombudsperson ...</a><br>The <b>Samsung</b> Ombudsperson Commission was launched as an independent third-party institution following an agreement among <b>Samsung</b> Electronics, Supporters for&nbsp;...<br><br>"
      ],
      "text/plain": [
       "<IPython.core.display.HTML object>"
      ]
     },
     "metadata": {},
     "output_type": "display_data"
    },
    {
     "data": {
      "text/html": [
       "<a href=\"https://ieeexplore.ieee.org/document/9567191\">8. Aquabolt-XL: <b>Samsung</b> HBM2-PIM with in-memory processing for ...</a><br>Aquabolt-XL: <b>Samsung</b> HBM2-PIM with in-memory processing for ML accelerators and beyond. Abstract: Using PIM to overcome memory bottleneck • Although various&nbsp;...<br><br>"
      ],
      "text/plain": [
       "<IPython.core.display.HTML object>"
      ]
     },
     "metadata": {},
     "output_type": "display_data"
    },
    {
     "data": {
      "text/html": [
       "<a href=\"https://www.ncbi.nlm.nih.gov/pmc/articles/PMC8924780/\">9. Heart Rate Measurement Accuracy of Fitbit Charge 4 and <b>Samsung</b> ...</a><br>To the best of our knowledge, no validation studies on the <b>Samsung</b> Galaxy Watch Active series exist as of today. However, other <b>Samsung</b> smart watches have been&nbsp;...<br><br>"
      ],
      "text/plain": [
       "<IPython.core.display.HTML object>"
      ]
     },
     "metadata": {},
     "output_type": "display_data"
    },
    {
     "data": {
      "text/html": [
       "<a href=\"https://ieeexplore.ieee.org/document/8727133\">10. Another step toward the end of Moore&#39;s law: <b>Samsung</b> and TSMC ...</a><br>May 31, 2019 <b>...</b> Two of the world&#39;s largest foundries—Taiwan Semiconductor Manufacturing Co. (TSMC) and <b>Samsung</b>—announced in April that they&#39;d climbed one&nbsp;...<br><br>"
      ],
      "text/plain": [
       "<IPython.core.display.HTML object>"
      ]
     },
     "metadata": {},
     "output_type": "display_data"
    },
    {
     "data": {
      "text/html": [
       "<a href=\"https://www.ncbi.nlm.nih.gov/pmc/articles/PMC7899474/\">11. Accuracy of <b>Samsung</b> Smartphone Integrated Pulse Oximetry Meets ...</a><br>Feb 18, 2021 <b>...</b> Both <b>Samsung</b> S9 and S10 contain the same integrated pulse oximeter, thus over 100 million smartphones in current global circulation could be&nbsp;...<br><br>"
      ],
      "text/plain": [
       "<IPython.core.display.HTML object>"
      ]
     },
     "metadata": {},
     "output_type": "display_data"
    }
   ],
   "source": [
    "## Now watch how results change when we change the search engine to papers.\n",
    "search_and_print('samsung', GdevKey, GSdevcx, number_of_desired_results=11)\n"
   ]
  },
  {
   "cell_type": "code",
   "execution_count": 12,
   "metadata": {},
   "outputs": [
    {
     "data": {
      "text/html": [
       "<a href=\"https://www.linkedin.com/company/samsung-electronics\">1. <b>Samsung</b> Electronics | LinkedIn</a><br><b>Samsung</b> Electronics is a global leader in technology, opening new possibilities for people everywhere. Through relentless innovation and discovery,&nbsp;...<br><br>"
      ],
      "text/plain": [
       "<IPython.core.display.HTML object>"
      ]
     },
     "metadata": {},
     "output_type": "display_data"
    },
    {
     "data": {
      "text/html": [
       "<a href=\"https://blog.linkedin.com/2014/04/11/the-power-of-linkedin-is-built-into-your-samsung-galaxy-s5\">2. The Power of LinkedIn is Built into Your <b>Samsung</b> Galaxy S5 ...</a><br>Apr 11, 2014 <b>...</b> Today, <b>Samsung</b> starts shipping the much-anticipated Galaxy S5 smartphone, which includes a first-of-its-kind integration with LinkedIn that&nbsp;...<br><br>"
      ],
      "text/plain": [
       "<IPython.core.display.HTML object>"
      ]
     },
     "metadata": {},
     "output_type": "display_data"
    },
    {
     "data": {
      "text/html": [
       "<a href=\"https://www.linkedin.com/company/samsung-electronics-america\">3. <b>Samsung</b> Electronics America | LinkedIn</a><br><b>Samsung</b> Electronics America | 380938 followers on LinkedIn. For over 70 years, <b>Samsung</b> has been dedicated to making a better world through diverse&nbsp;...<br><br>"
      ],
      "text/plain": [
       "<IPython.core.display.HTML object>"
      ]
     },
     "metadata": {},
     "output_type": "display_data"
    },
    {
     "data": {
      "text/html": [
       "<a href=\"https://www.linkedin.com/company/samsung-semi-europe\">4. <b>Samsung</b> Semiconductor Europe | LinkedIn</a><br><b>Samsung</b> Semiconductor&#39;s European base handles the marketing and sales of <b>Samsung</b> Electronics&#39; component business units including Memory, System LSI, Foundry,&nbsp;...<br><br>"
      ],
      "text/plain": [
       "<IPython.core.display.HTML object>"
      ]
     },
     "metadata": {},
     "output_type": "display_data"
    },
    {
     "data": {
      "text/html": [
       "<a href=\"https://www.linkedin.com/company/samsungsemiconductor\">5. <b>Samsung</b> Semiconductor | LinkedIn</a><br><b>Samsung</b> Semiconductor | 38319 followers on LinkedIn. Established in 1974 as a subsidiary of <b>Samsung</b> Electronics, we&#39;re proud to be recognized as one of the&nbsp;...<br><br>"
      ],
      "text/plain": [
       "<IPython.core.display.HTML object>"
      ]
     },
     "metadata": {},
     "output_type": "display_data"
    },
    {
     "data": {
      "text/html": [
       "<a href=\"https://www.linkedin.com/company/samsung-sds\">6. <b>SAMSUNG</b> SDS | LinkedIn</a><br><b>SAMSUNG</b> SDS | 145859 followers on LinkedIn. Data-driven Digital Transformation Leader | Our vision is driven by a fundamental desire to get to the core of&nbsp;...<br><br>"
      ],
      "text/plain": [
       "<IPython.core.display.HTML object>"
      ]
     },
     "metadata": {},
     "output_type": "display_data"
    },
    {
     "data": {
      "text/html": [
       "<a href=\"https://www.linkedin.com/company/samsung-electronics-nordic/\">7. <b>Samsung</b> Electronics Nordic | LinkedIn</a><br><b>Samsung</b> Electronics Nordic | 14883 followers on LinkedIn. <b>Samsung</b> Electronics is a global leader in technology, opening new possibilities for people&nbsp;...<br><br>"
      ],
      "text/plain": [
       "<IPython.core.display.HTML object>"
      ]
     },
     "metadata": {},
     "output_type": "display_data"
    },
    {
     "data": {
      "text/html": [
       "<a href=\"https://www.linkedin.com/company/samsung-electronics/jobs\">8. <b>Samsung</b> Electronics: Jobs | LinkedIn</a><br><b>Samsung</b> Electronics | 3868901 followers on LinkedIn. <b>Samsung</b> Electronics is a global leader in technology, opening new possibilities for people everywhere.<br><br>"
      ],
      "text/plain": [
       "<IPython.core.display.HTML object>"
      ]
     },
     "metadata": {},
     "output_type": "display_data"
    },
    {
     "data": {
      "text/html": [
       "<a href=\"https://www.linkedin.com/company/samsungaustinsemiconductor\">9. <b>Samsung</b> Austin Semiconductor | LinkedIn</a><br><b>Samsung</b> Austin Semiconductor | 11442 followers on LinkedIn. <b>Samsung</b> Austin Semiconductor is one of the most advanced semiconductor manufacturing facilities&nbsp;...<br><br>"
      ],
      "text/plain": [
       "<IPython.core.display.HTML object>"
      ]
     },
     "metadata": {},
     "output_type": "display_data"
    },
    {
     "data": {
      "text/html": [
       "<a href=\"https://www.linkedin.com/company/samsungmobile/\">10. <b>Samsung</b> Mobile | LinkedIn</a><br>As <b>Samsung</b> evolved as a mobile device manufacturer, we saw increasing needs from ... to enhance Android security and productivity on <b>Samsung</b> Galaxy devices.<br><br>"
      ],
      "text/plain": [
       "<IPython.core.display.HTML object>"
      ]
     },
     "metadata": {},
     "output_type": "display_data"
    },
    {
     "data": {
      "text/html": [
       "<a href=\"https://www.linkedin.com/in/wonilroh\">11. Wonil Roh - President - <b>Samsung</b> Research America | LinkedIn</a><br>As President of <b>Samsung</b> Research America (SRA), my purpose is to challenge employees to grow together and create a team that is:<br><br>"
      ],
      "text/plain": [
       "<IPython.core.display.HTML object>"
      ]
     },
     "metadata": {},
     "output_type": "display_data"
    }
   ],
   "source": [
    "## Now watch how results change when we change the search engine to Linked-in.\n",
    "search_and_print('samsung', GdevKey, GLIdevcx, number_of_desired_results=11)"
   ]
  },
  {
   "cell_type": "code",
   "execution_count": 13,
   "metadata": {},
   "outputs": [],
   "source": [
    "## Here's the non-Badal version.  This is useful if you want to put the results in a file or database.\n",
    "## Note we can easily visit the URL and get the full text, but we'll just print the snippet\n",
    "def search_and_print_oldFashioned(query, api_key, search_engine_key=Gdevcx, number_of_desired_results=10):\n",
    "    \n",
    "    '''\n",
    "    Takes up to four arguments:\n",
    "    query: as you will type them in google.com\n",
    "    api_key: your developer key\n",
    "    search_engine_key (optional): your personal search engine. Default is google.com with search all web turned on \n",
    "    number_of_desired_results (optional): number of results you want. Deafult is 10. Keep less than 50 to not use too many queries. \n",
    "    '''\n",
    "\n",
    "    service = apiclient.discovery.build(\"customsearch\", \"v1\", developerKey=api_key)\n",
    "    resource = service.cse()\n",
    "\n",
    "    number_of_results_printed = 0\n",
    "    header_printed = False\n",
    "    while number_of_results_printed < number_of_desired_results:\n",
    "\n",
    "        left_to_print = number_of_desired_results - number_of_results_printed\n",
    "        left_to_print = 10 if left_to_print >= 10 else left_to_print\n",
    "        print_count_start = number_of_results_printed + 1\n",
    "\n",
    "        result = resource.list(q=query, cx=search_engine_key, num=left_to_print, start=print_count_start).execute()\n",
    "        \n",
    "        if (not header_printed):  #this is a kludge so that we only print this part once\n",
    "          print('SearchTerms: ' + result['queries']['request'][0]['searchTerms']+'\\n')\n",
    "          print('# of results: '+ result['queries']['request'][0]['totalResults'] + '\\n')\n",
    "          header_printed = True\n",
    "        \n",
    "        if 'items' in result: # only if results found\n",
    "           for counter, item in enumerate(result['items'], print_count_start):\n",
    "            print(str(counter)+'\\nURL:'+str(item['link'])+'\\nPage Title:'+item['htmlTitle']+'\\nSnippet:'+item['htmlSnippet'])\n",
    "        else:\n",
    "            break\n",
    "        \n",
    "        number_of_results_printed += left_to_print\n",
    "        \n",
    "        "
   ]
  },
  {
   "cell_type": "code",
   "execution_count": 14,
   "metadata": {},
   "outputs": [
    {
     "name": "stdout",
     "output_type": "stream",
     "text": [
      "SearchTerms: photovoltaic \"printed electronics\"\n",
      "\n",
      "# of results: 164000\n",
      "\n",
      "1\n",
      "URL:https://www.printedelectronicsworld.com/tag/7/photovoltaics\n",
      "Page Title:<b>Photovoltaics</b> | <b>Printed Electronics</b> World\n",
      "Snippet:Using Transparent <b>Solar Power</b> for Cultivating Crops &middot; IDTechEx Research Subscribers ... <b>Printed Electronics</b> World. Aug 17, 2022&nbsp;...\n",
      "2\n",
      "URL:https://www.dupont.com/mobility-materials/session-overviews-printed-electronics-seminar.html\n",
      "Page Title:DuPont <b>Photovoltaic</b> &amp; Advanced Materials Hosts &quot;Introduction to ...\n",
      "Snippet:The development of <b>printed electronics</b> technology is described with reference to the early applications which it was initially used for including Membrane&nbsp;...\n",
      "3\n",
      "URL:https://www.sigmaaldrich.com/US/en/technical-documents/technical-article/materials-science-and-engineering/organic-electronics/polymer-based-materials\n",
      "Page Title:Polymer-based Materials for <b>Printed Electronics</b>: Enabling High ...\n",
      "Snippet:Polymer-based Materials for <b>Printed Electronics</b>: Enabling High Efficiency <b>Solar Power</b> and Lighting &middot; Organic Light Emitting Diodes &middot; Organic <b>Photovoltaics</b>.\n",
      "4\n",
      "URL:https://www.printedelectronicsnow.com/contents/view_online-exclusives/2022-05-18/the-future-of-organic-photovoltaics/\n",
      "Page Title:The Future Of Organic <b>Photovoltaics</b> | <b>Printed Electronics</b> Now\n",
      "Snippet:May 18, 2022 <b>...</b> <b>Printed Electronics</b> &middot; <b>Photovoltaics</b> &middot; Printed Batteries &middot; Printed Circuit Boards/Membrane Switches/In Mold Electronics&nbsp;...\n",
      "5\n",
      "URL:https://www.nature.com/articles/539488a\n",
      "Page Title:Print flexible solar cells | Nature\n",
      "Snippet:Nov 23, 2016 <b>...</b> If <b>photovoltaic</b> (<b>PV</b>) devices that turn light into electricity could be ... Das, R. Printing Equipment for <b>Printed Electronics</b> 2015–2025:&nbsp;...\n"
     ]
    }
   ],
   "source": [
    "search_and_print_oldFashioned('photovoltaic \"printed electronics\"', GdevKey, number_of_desired_results=5)"
   ]
  },
  {
   "cell_type": "markdown",
   "metadata": {},
   "source": [
    "## These could use some cleanup with beautiful soup but you get the idea\n",
    "<br>\n",
    "\n",
    "## we'll do some simpler cleanup"
   ]
  },
  {
   "cell_type": "code",
   "execution_count": 15,
   "metadata": {},
   "outputs": [
    {
     "name": "stdout",
     "output_type": "stream",
     "text": [
      "Learn <b>data science</b> online today. Advance your career as a <b>data scientist</b> with <br> free courses from the world&#39;s top institutions. Join now. \n",
      "\n",
      " Learn <b>data science</b> online today. Advance your career as a <b>data scientist</b> with <br> free courses from the world's top institutions. Join now. \n",
      "\n"
     ]
    }
   ],
   "source": [
    "import html\n",
    "s = 'Learn <b>data science</b> online today. Advance your career as a <b>data scientist</b> with <br> free courses from the world&#39;s top institutions. Join now.'\n",
    "print(s,'\\n\\n',html.unescape(s),'\\n')"
   ]
  },
  {
   "cell_type": "code",
   "execution_count": 16,
   "metadata": {},
   "outputs": [],
   "source": [
    "def clean5(s):\n",
    "    s = html.unescape(s)  #this replaces unicode characters with the closest ascii fit.\n",
    "    s = s.replace('<b>','')\n",
    "    s = s.replace('</b>','')\n",
    "    s = s.replace('<br>','')\n",
    "    s = s.replace('  ',' ') #replace double spaces with single spaces\n",
    "    return(s)"
   ]
  },
  {
   "cell_type": "code",
   "execution_count": 17,
   "metadata": {},
   "outputs": [
    {
     "name": "stdout",
     "output_type": "stream",
     "text": [
      "Learn <b>data science</b> online today. Advance your career as a <b>data scientist</b> with <br> free courses from the world&#39;s top institutions. Join now. \n",
      "\n",
      " Learn data science online today. Advance your career as a data scientist with free courses from the world's top institutions. Join now. \n",
      "\n"
     ]
    }
   ],
   "source": [
    "s = 'Learn <b>data science</b> online today. Advance your career as a <b>data scientist</b> with <br> free courses from the world&#39;s top institutions. Join now.'\n",
    "print(s,'\\n\\n',clean5(s),'\\n')"
   ]
  },
  {
   "cell_type": "code",
   "execution_count": null,
   "metadata": {},
   "outputs": [],
   "source": []
  }
 ],
 "metadata": {
  "kernelspec": {
   "display_name": "Python 3",
   "language": "python",
   "name": "python3"
  },
  "language_info": {
   "codemirror_mode": {
    "name": "ipython",
    "version": 3
   },
   "file_extension": ".py",
   "mimetype": "text/x-python",
   "name": "python",
   "nbconvert_exporter": "python",
   "pygments_lexer": "ipython3",
   "version": "3.8.5"
  }
 },
 "nbformat": 4,
 "nbformat_minor": 4
}
